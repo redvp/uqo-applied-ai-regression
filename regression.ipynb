{
 "cells": [
  {
   "cell_type": "code",
   "execution_count": 1,
   "metadata": {},
   "outputs": [
    {
     "name": "stdout",
     "output_type": "stream",
     "text": [
      "Number of instances = 3177\n",
      "Number of attributes = 9\n"
     ]
    },
    {
     "data": {
      "text/html": [
       "<div>\n",
       "<style scoped>\n",
       "    .dataframe tbody tr th:only-of-type {\n",
       "        vertical-align: middle;\n",
       "    }\n",
       "\n",
       "    .dataframe tbody tr th {\n",
       "        vertical-align: top;\n",
       "    }\n",
       "\n",
       "    .dataframe thead th {\n",
       "        text-align: right;\n",
       "    }\n",
       "</style>\n",
       "<table border=\"1\" class=\"dataframe\">\n",
       "  <thead>\n",
       "    <tr style=\"text-align: right;\">\n",
       "      <th></th>\n",
       "      <th>Sex</th>\n",
       "      <th>Length</th>\n",
       "      <th>Diameter</th>\n",
       "      <th>Height</th>\n",
       "      <th>Whole weight</th>\n",
       "      <th>Shucked weight</th>\n",
       "      <th>Viscera weight</th>\n",
       "      <th>Shell weight</th>\n",
       "      <th>Rings</th>\n",
       "    </tr>\n",
       "  </thead>\n",
       "  <tbody>\n",
       "    <tr>\n",
       "      <th>0</th>\n",
       "      <td>M</td>\n",
       "      <td>0.455</td>\n",
       "      <td>0.365</td>\n",
       "      <td>0.095</td>\n",
       "      <td>0.5140</td>\n",
       "      <td>0.2245</td>\n",
       "      <td>0.1010</td>\n",
       "      <td>0.150</td>\n",
       "      <td>15</td>\n",
       "    </tr>\n",
       "    <tr>\n",
       "      <th>1</th>\n",
       "      <td>M</td>\n",
       "      <td>0.350</td>\n",
       "      <td>0.265</td>\n",
       "      <td>0.090</td>\n",
       "      <td>0.2255</td>\n",
       "      <td>0.0995</td>\n",
       "      <td>0.0485</td>\n",
       "      <td>0.070</td>\n",
       "      <td>7</td>\n",
       "    </tr>\n",
       "    <tr>\n",
       "      <th>2</th>\n",
       "      <td>M</td>\n",
       "      <td>0.440</td>\n",
       "      <td>0.365</td>\n",
       "      <td>0.125</td>\n",
       "      <td>0.5160</td>\n",
       "      <td>0.2155</td>\n",
       "      <td>0.1140</td>\n",
       "      <td>0.155</td>\n",
       "      <td>10</td>\n",
       "    </tr>\n",
       "    <tr>\n",
       "      <th>3</th>\n",
       "      <td>I</td>\n",
       "      <td>0.425</td>\n",
       "      <td>0.300</td>\n",
       "      <td>0.095</td>\n",
       "      <td>0.3515</td>\n",
       "      <td>0.1410</td>\n",
       "      <td>0.0775</td>\n",
       "      <td>0.120</td>\n",
       "      <td>8</td>\n",
       "    </tr>\n",
       "    <tr>\n",
       "      <th>4</th>\n",
       "      <td>F</td>\n",
       "      <td>0.530</td>\n",
       "      <td>0.415</td>\n",
       "      <td>0.150</td>\n",
       "      <td>0.7775</td>\n",
       "      <td>0.2370</td>\n",
       "      <td>0.1415</td>\n",
       "      <td>0.330</td>\n",
       "      <td>20</td>\n",
       "    </tr>\n",
       "  </tbody>\n",
       "</table>\n",
       "</div>"
      ],
      "text/plain": [
       "  Sex  Length  Diameter  Height  Whole weight  Shucked weight  Viscera weight  \\\n",
       "0   M   0.455     0.365   0.095        0.5140          0.2245          0.1010   \n",
       "1   M   0.350     0.265   0.090        0.2255          0.0995          0.0485   \n",
       "2   M   0.440     0.365   0.125        0.5160          0.2155          0.1140   \n",
       "3   I   0.425     0.300   0.095        0.3515          0.1410          0.0775   \n",
       "4   F   0.530     0.415   0.150        0.7775          0.2370          0.1415   \n",
       "\n",
       "   Shell weight  Rings  \n",
       "0         0.150     15  \n",
       "1         0.070      7  \n",
       "2         0.155     10  \n",
       "3         0.120      8  \n",
       "4         0.330     20  "
      ]
     },
     "execution_count": 1,
     "metadata": {},
     "output_type": "execute_result"
    }
   ],
   "source": [
    "import pandas as pd\n",
    "\n",
    "# Load and check data format\n",
    "df = pd.read_csv('Training_Data.csv')\n",
    "print('Number of instances = %d' % (df.shape[0]))\n",
    "print('Number of attributes = %d' % (df.shape[1]))\n",
    "df.head()"
   ]
  },
  {
   "cell_type": "code",
   "execution_count": 2,
   "metadata": {},
   "outputs": [
    {
     "data": {
      "text/plain": [
       "Text(0.5, 1.0, 'Correlation Matrix')"
      ]
     },
     "execution_count": 2,
     "metadata": {},
     "output_type": "execute_result"
    },
    {
     "data": {
      "image/png": "[encoded data removed]",
      "text/plain": [
       "<Figure size 288x288 with 2 Axes>"
      ]
     },
     "metadata": {
      "needs_background": "light"
     },
     "output_type": "display_data"
    }
   ],
   "source": [
    "import matplotlib.pyplot as plt\n",
    "\n",
    "# Compute correlation matrix to see if any variables should be removed\n",
    "corr = df.drop('Rings', axis=1).corr()\n",
    "plt.matshow(corr)\n",
    "plt.xticks(range(len(corr.columns)), corr.columns, rotation='vertical')\n",
    "plt.yticks(range(len(corr.columns)), corr.columns)\n",
    "cb = plt.colorbar()\n",
    "plt.title('Correlation Matrix', fontsize=16)"
   ]
  },
  {
   "cell_type": "code",
   "execution_count": 3,
   "metadata": {},
   "outputs": [
    {
     "data": {
      "image/png": "[encoded data removed]",
      "text/plain": [
       "<Figure size 432x288 with 1 Axes>"
      ]
     },
     "metadata": {
      "needs_background": "light"
     },
     "output_type": "display_data"
    }
   ],
   "source": [
    "# Visualize box plots to check for outliers\n",
    "boxplot = df.drop('Rings', axis=1).boxplot(grid=False, rot=90, fontsize=15)  "
   ]
  },
  {
   "cell_type": "code",
   "execution_count": 4,
   "metadata": {},
   "outputs": [
    {
     "name": "stdout",
     "output_type": "stream",
     "text": [
      "Number of instances = 3177\n",
      "Number of attributes = 11\n"
     ]
    },
    {
     "data": {
      "text/html": [
       "<div>\n",
       "<style scoped>\n",
       "    .dataframe tbody tr th:only-of-type {\n",
       "        vertical-align: middle;\n",
       "    }\n",
       "\n",
       "    .dataframe tbody tr th {\n",
       "        vertical-align: top;\n",
       "    }\n",
       "\n",
       "    .dataframe thead th {\n",
       "        text-align: right;\n",
       "    }\n",
       "</style>\n",
       "<table border=\"1\" class=\"dataframe\">\n",
       "  <thead>\n",
       "    <tr style=\"text-align: right;\">\n",
       "      <th></th>\n",
       "      <th>Length</th>\n",
       "      <th>Diameter</th>\n",
       "      <th>Height</th>\n",
       "      <th>Whole weight</th>\n",
       "      <th>Shucked weight</th>\n",
       "      <th>Viscera weight</th>\n",
       "      <th>Shell weight</th>\n",
       "      <th>Sex_F</th>\n",
       "      <th>Sex_I</th>\n",
       "      <th>Sex_M</th>\n",
       "      <th>Rings</th>\n",
       "    </tr>\n",
       "  </thead>\n",
       "  <tbody>\n",
       "    <tr>\n",
       "      <th>0</th>\n",
       "      <td>0.455</td>\n",
       "      <td>0.365</td>\n",
       "      <td>0.095</td>\n",
       "      <td>0.5140</td>\n",
       "      <td>0.2245</td>\n",
       "      <td>0.1010</td>\n",
       "      <td>0.150</td>\n",
       "      <td>0</td>\n",
       "      <td>0</td>\n",
       "      <td>1</td>\n",
       "      <td>15</td>\n",
       "    </tr>\n",
       "    <tr>\n",
       "      <th>1</th>\n",
       "      <td>0.350</td>\n",
       "      <td>0.265</td>\n",
       "      <td>0.090</td>\n",
       "      <td>0.2255</td>\n",
       "      <td>0.0995</td>\n",
       "      <td>0.0485</td>\n",
       "      <td>0.070</td>\n",
       "      <td>0</td>\n",
       "      <td>0</td>\n",
       "      <td>1</td>\n",
       "      <td>7</td>\n",
       "    </tr>\n",
       "    <tr>\n",
       "      <th>2</th>\n",
       "      <td>0.440</td>\n",
       "      <td>0.365</td>\n",
       "      <td>0.125</td>\n",
       "      <td>0.5160</td>\n",
       "      <td>0.2155</td>\n",
       "      <td>0.1140</td>\n",
       "      <td>0.155</td>\n",
       "      <td>0</td>\n",
       "      <td>0</td>\n",
       "      <td>1</td>\n",
       "      <td>10</td>\n",
       "    </tr>\n",
       "    <tr>\n",
       "      <th>3</th>\n",
       "      <td>0.425</td>\n",
       "      <td>0.300</td>\n",
       "      <td>0.095</td>\n",
       "      <td>0.3515</td>\n",
       "      <td>0.1410</td>\n",
       "      <td>0.0775</td>\n",
       "      <td>0.120</td>\n",
       "      <td>0</td>\n",
       "      <td>1</td>\n",
       "      <td>0</td>\n",
       "      <td>8</td>\n",
       "    </tr>\n",
       "    <tr>\n",
       "      <th>4</th>\n",
       "      <td>0.530</td>\n",
       "      <td>0.415</td>\n",
       "      <td>0.150</td>\n",
       "      <td>0.7775</td>\n",
       "      <td>0.2370</td>\n",
       "      <td>0.1415</td>\n",
       "      <td>0.330</td>\n",
       "      <td>1</td>\n",
       "      <td>0</td>\n",
       "      <td>0</td>\n",
       "      <td>20</td>\n",
       "    </tr>\n",
       "  </tbody>\n",
       "</table>\n",
       "</div>"
      ],
      "text/plain": [
       "   Length  Diameter  Height  Whole weight  Shucked weight  Viscera weight  \\\n",
       "0   0.455     0.365   0.095        0.5140          0.2245          0.1010   \n",
       "1   0.350     0.265   0.090        0.2255          0.0995          0.0485   \n",
       "2   0.440     0.365   0.125        0.5160          0.2155          0.1140   \n",
       "3   0.425     0.300   0.095        0.3515          0.1410          0.0775   \n",
       "4   0.530     0.415   0.150        0.7775          0.2370          0.1415   \n",
       "\n",
       "   Shell weight  Sex_F  Sex_I  Sex_M  Rings  \n",
       "0         0.150      0      0      1     15  \n",
       "1         0.070      0      0      1      7  \n",
       "2         0.155      0      0      1     10  \n",
       "3         0.120      0      1      0      8  \n",
       "4         0.330      1      0      0     20  "
      ]
     },
     "execution_count": 4,
     "metadata": {},
     "output_type": "execute_result"
    }
   ],
   "source": [
    "# # Remove Length because of its high correlation with Diameter\n",
    "# df.drop('Length', axis=1, inplace=True)\n",
    "\n",
    "# One Hot Encode the Sex column because it is a categorical variable\n",
    "df = df.join(pd.get_dummies(df.Sex, prefix='Sex'), lsuffix='_caller', rsuffix='_other')\n",
    "# Remove the encoded column\n",
    "df.drop('Sex', axis=1, inplace=True)\n",
    "\n",
    "# # Add a new variable\n",
    "# df['Testing shit'] = df['Height']*df['Diameter']\n",
    "\n",
    "# Place the target column at the last index\n",
    "df['Rings'] = df.pop('Rings')\n",
    "print('Number of instances = %d' % (df.shape[0]))\n",
    "print('Number of attributes = %d' % (df.shape[1]))\n",
    "df.head()"
   ]
  },
  {
   "cell_type": "code",
   "execution_count": 5,
   "metadata": {},
   "outputs": [
    {
     "data": {
      "text/plain": [
       "((2541, 10), (636, 10), (2541,), (636,))"
      ]
     },
     "execution_count": 5,
     "metadata": {},
     "output_type": "execute_result"
    }
   ],
   "source": [
    "from sklearn.model_selection import train_test_split\n",
    "\n",
    "# Convert to numpy arrays\n",
    "X = df.drop('Rings', axis=1).to_numpy()\n",
    "y = df['Rings'].to_numpy()\n",
    "\n",
    "# Train test split\n",
    "X_train, X_test, y_train, y_test = train_test_split(X, y, test_size=0.2, shuffle=True)\n",
    "X_train.shape, X_test.shape, y_train.shape, y_test.shape"
   ]
  },
  {
   "cell_type": "code",
   "execution_count": 6,
   "metadata": {},
   "outputs": [
    {
     "name": "stdout",
     "output_type": "stream",
     "text": [
      "Linear regression MSE = 4.7600\n",
      "Linear regression R2 = 0.5634\n"
     ]
    }
   ],
   "source": [
    "from sklearn.linear_model import LinearRegression\n",
    "from sklearn.metrics import mean_squared_error, r2_score\n",
    "\n",
    "# Try linear regression as a baseline, without any cross validation\n",
    "lreg = LinearRegression()\n",
    "lreg.fit(X_train, y_train)\n",
    "lreg_pred = lreg.predict(X_test)\n",
    "print('Linear regression MSE = %.4f' % (mean_squared_error(y_test, lreg_pred)))\n",
    "print('Linear regression R2 = %.4f' % (r2_score(y_test, lreg_pred)))"
   ]
  },
  {
   "cell_type": "code",
   "execution_count": 7,
   "metadata": {},
   "outputs": [
    {
     "name": "stdout",
     "output_type": "stream",
     "text": [
      "Lasso regression MSE = 4.7030\n",
      "Lasso regression R2 = 0.5686\n",
      "With alpha = 0.001\n"
     ]
    }
   ],
   "source": [
    "from sklearn.linear_model import LassoCV\n",
    "\n",
    "# Number of folds used for cross validation\n",
    "n_folds = 4\n",
    "\n",
    "# Cross validated Lasso regression\n",
    "lasso = LassoCV(cv=n_folds, alphas=[1e-3, 1e-2, 1e-1]).fit(X, y)\n",
    "lasso_pred = lasso.predict(X_test)\n",
    "print('Lasso regression MSE = %.4f' % (mean_squared_error(y_test, lasso_pred)))\n",
    "print('Lasso regression R2 = %.4f' % (r2_score(y_test, lasso_pred)))\n",
    "print('With alpha = %.3f' % (lasso.alpha_))"
   ]
  },
  {
   "cell_type": "code",
   "execution_count": 8,
   "metadata": {},
   "outputs": [
    {
     "name": "stdout",
     "output_type": "stream",
     "text": [
      "Elastic regression MSE = 4.8415\n",
      "Elastic regression R2 = 0.5559\n",
      "With alpha = 0.001\n",
      "And l1_ratio = 0.75\n"
     ]
    }
   ],
   "source": [
    "from sklearn.linear_model import ElasticNetCV\n",
    "\n",
    "# Cross validated ElasticNet regression\n",
    "elastic = ElasticNetCV(cv=n_folds, l1_ratio=[0.25,0.5,0.75], alphas=[1e-3, 1e-2, 1e-1]).fit(X_train, y_train)\n",
    "elastic_pred = elastic.predict(X_test)\n",
    "print('Elastic regression MSE = %.4f' % (mean_squared_error(y_test, elastic_pred)))\n",
    "print('Elastic regression R2 = %.4f' % (r2_score(y_test, elastic_pred)))\n",
    "print('With alpha = %.3f' % (elastic.alpha_))\n",
    "print('And l1_ratio = %.2f' % (elastic.l1_ratio_))"
   ]
  },
  {
   "cell_type": "code",
   "execution_count": 9,
   "metadata": {},
   "outputs": [
    {
     "name": "stdout",
     "output_type": "stream",
     "text": [
      "Ridge regression MSE = 4.8504\n",
      "Ridge regression R2 = 0.5551\n",
      "With alpha = 1.000\n"
     ]
    }
   ],
   "source": [
    "from sklearn.linear_model import RidgeCV\n",
    "\n",
    "# Cross validated Ridge regression\n",
    "ridge = RidgeCV(cv=n_folds, alphas=[1e-3, 1e-2, 1e-1, 1])\n",
    "ridge.fit(X_train, y_train)\n",
    "ridge_pred = ridge.predict(X_test)\n",
    "print('Ridge regression MSE = %.4f' % (mean_squared_error(y_test, ridge_pred)))\n",
    "print('Ridge regression R2 = %.4f' % (r2_score(y_test, ridge_pred)))\n",
    "print('With alpha = %.3f' % (ridge.alpha_))"
   ]
  },
  {
   "cell_type": "code",
   "execution_count": 10,
   "metadata": {},
   "outputs": [
    {
     "name": "stdout",
     "output_type": "stream",
     "text": [
      "GBR regression MSE = 5.1134\n",
      "GBR regression R2 = 0.5309\n",
      "learning_rate\t0.01\n",
      "loss\tsquared_error\n",
      "max_depth\t3\n",
      "min_samples_split\t5\n",
      "n_estimators\t1000\n"
     ]
    }
   ],
   "source": [
    "from sklearn import ensemble\n",
    "from sklearn.model_selection import GridSearchCV\n",
    "\n",
    "# Cross validated Gradient Boosting Regressor\n",
    "gbr = ensemble.GradientBoostingRegressor()\n",
    "\n",
    "gbr_params = {\n",
    "    'n_estimators': [500,1000,2000],\n",
    "    'max_depth': [3,4],\n",
    "    'min_samples_split': [2,5],\n",
    "    'learning_rate': [1e-3,1e-2],\n",
    "    'loss': ['squared_error'],\n",
    "}\n",
    "\n",
    "# Optimize hyperparameters with a grid search\n",
    "gbr_grid_search = GridSearchCV(gbr, gbr_params, cv = n_folds, n_jobs = -1)\n",
    "gbr_grid_search.fit(X_train, y_train)\n",
    "best_gbr = gbr_grid_search.best_estimator_\n",
    "gbr_pred = best_gbr.predict(X_test)\n",
    "print('GBR regression MSE = %.4f' % (mean_squared_error(y_test, gbr_pred)))\n",
    "print('GBR regression R2 = %.4f' % (r2_score(y_test, gbr_pred)))\n",
    "print(\"\\n\".join(\"{}\\t{}\".format(k, v) for k, v in gbr_grid_search.best_params_.items()))"
   ]
  },
  {
   "cell_type": "code",
   "execution_count": 11,
   "metadata": {},
   "outputs": [
    {
     "name": "stdout",
     "output_type": "stream",
     "text": [
      "SVR regression MSE = 4.5618\n",
      "SVR regression R2 = 0.5815\n",
      "C\t10\n",
      "epsilon\t0.5\n",
      "kernel\trbf\n",
      "tol\t0.0001\n"
     ]
    }
   ],
   "source": [
    "from sklearn import svm\n",
    "\n",
    "svr = svm.SVR()\n",
    "\n",
    "svr_params = {\n",
    "    'kernel': ('linear', 'rbf'),\n",
    "    'C':[1, 10],\n",
    "    'tol': [1e-7, 1e-4],\n",
    "    'epsilon':[0.1,0.2,0.3,0.5]\n",
    "}\n",
    "\n",
    "svr_grid_search = GridSearchCV(svr, svr_params, cv = n_folds, n_jobs = -1)\n",
    "svr_grid_search.fit(X_train, y_train)\n",
    "best_svr = svr_grid_search.best_estimator_\n",
    "svr_pred = best_svr.predict(X_test)\n",
    "print('SVR regression MSE = %.4f' % (mean_squared_error(y_test, svr_pred)))\n",
    "print('SVR regression R2 = %.4f' % (r2_score(y_test, svr_pred)))\n",
    "print(\"\\n\".join(\"{}\\t{}\".format(k, v) for k, v in svr_grid_search.best_params_.items()))"
   ]
  },
  {
   "cell_type": "code",
   "execution_count": 12,
   "metadata": {},
   "outputs": [
    {
     "name": "stdout",
     "output_type": "stream",
     "text": [
      "DNN regression with selu, MSE = 4.4956\n",
      "DNN regression with selu, R2 = 0.5876\n",
      "---------------------------------------\n",
      "DNN regression with tanh, MSE = 5.5138\n",
      "DNN regression with tanh, R2 = 0.4942\n",
      "---------------------------------------\n",
      "DNN regression with linear, MSE = 4.8865\n",
      "DNN regression with linear, R2 = 0.5518\n",
      "---------------------------------------\n",
      "DNN regression with relu, MSE = 4.5910\n",
      "DNN regression with relu, R2 = 0.5789\n",
      "---------------------------------------\n"
     ]
    }
   ],
   "source": [
    "from keras import Sequential\n",
    "from keras.layers import Dense\n",
    "from sklearn.model_selection import KFold\n",
    "\n",
    "# Building the neural network\n",
    "def get_dnn(act):    \n",
    "    dnn = Sequential()\n",
    "    dnn.add(Dense(64, act, ))\n",
    "    dnn.add(Dense(32, act))\n",
    "    dnn.add(Dense(8, act))\n",
    "    dnn.add(Dense(1))\n",
    "    dnn.compile(optimizer='Adam', loss='mse', metrics=['mse'])\n",
    "    return dnn\n",
    "\n",
    "# Split the training set for KFold cross validation\n",
    "kf = KFold(n_splits=n_folds)\n",
    "\n",
    "# Try each activation function (one fold, one function)\n",
    "activation_functions = ['selu', 'tanh', 'linear', 'relu']\n",
    "fold_counter = 0\n",
    "for train_idx, val_idx in kf.split(X_train, y_train):\n",
    "    fold_counter+=1\n",
    "    fold_act = activation_functions[fold_counter-1]\n",
    "    # Training and validation data for each fold\n",
    "    fold_X_train = X_train[train_idx]\n",
    "    fold_y_train = y_train[train_idx]\n",
    "    fold_X_val = X_train[val_idx]\n",
    "    fold_y_val = y_train[val_idx]\n",
    "    # Build a neural network with a specific activation function\n",
    "    dnn = get_dnn(fold_act)\n",
    "    # verbose=0, Make the fit silent because output is otherwise too large\n",
    "    dnn.fit(fold_X_train, fold_y_train, epochs=50, validation_data=(fold_X_val, fold_y_val), verbose=0)\n",
    "    fold_pred = dnn.predict(X_test)\n",
    "    fold_mse = mean_squared_error(y_test,fold_pred)\n",
    "    fold_r2 = r2_score(y_test, fold_pred)\n",
    "    print('DNN regression with {act}, MSE = %.4f'.format(act = fold_act) % (fold_mse))\n",
    "    print('DNN regression with {act}, R2 = %.4f'.format(act = fold_act) % (fold_r2))\n",
    "    print('---------------------------------------')"
   ]
  },
  {
   "cell_type": "code",
   "execution_count": 13,
   "metadata": {},
   "outputs": [
    {
     "name": "stdout",
     "output_type": "stream",
     "text": [
      "Epoch 1/50\n",
      "60/60 [==============================] - 0s 3ms/step - loss: 28.6971 - mse: 28.6971 - val_loss: 7.9641 - val_mse: 7.9641\n",
      "Epoch 2/50\n",
      "60/60 [==============================] - 0s 2ms/step - loss: 6.8263 - mse: 6.8263 - val_loss: 7.7284 - val_mse: 7.7284\n",
      "Epoch 3/50\n",
      "60/60 [==============================] - 0s 2ms/step - loss: 6.6836 - mse: 6.6836 - val_loss: 7.6497 - val_mse: 7.6497\n",
      "Epoch 4/50\n",
      "60/60 [==============================] - 0s 2ms/step - loss: 6.6175 - mse: 6.6175 - val_loss: 7.5207 - val_mse: 7.5207\n",
      "Epoch 5/50\n",
      "60/60 [==============================] - 0s 2ms/step - loss: 6.5411 - mse: 6.5411 - val_loss: 7.4475 - val_mse: 7.4475\n",
      "Epoch 6/50\n",
      "60/60 [==============================] - 0s 2ms/step - loss: 6.4587 - mse: 6.4587 - val_loss: 7.3615 - val_mse: 7.3615\n",
      "Epoch 7/50\n",
      "60/60 [==============================] - 0s 2ms/step - loss: 6.3628 - mse: 6.3628 - val_loss: 7.2580 - val_mse: 7.2580\n",
      "Epoch 8/50\n",
      "60/60 [==============================] - 0s 2ms/step - loss: 6.2764 - mse: 6.2764 - val_loss: 7.1130 - val_mse: 7.1130\n",
      "Epoch 9/50\n",
      "60/60 [==============================] - 0s 2ms/step - loss: 6.1803 - mse: 6.1803 - val_loss: 6.9559 - val_mse: 6.9559\n",
      "Epoch 10/50\n",
      "60/60 [==============================] - 0s 2ms/step - loss: 6.0076 - mse: 6.0076 - val_loss: 6.8359 - val_mse: 6.8359\n",
      "Epoch 11/50\n",
      "60/60 [==============================] - 0s 2ms/step - loss: 5.8497 - mse: 5.8497 - val_loss: 6.5552 - val_mse: 6.5552\n",
      "Epoch 12/50\n",
      "60/60 [==============================] - 0s 2ms/step - loss: 5.6159 - mse: 5.6159 - val_loss: 6.2016 - val_mse: 6.2016\n",
      "Epoch 13/50\n",
      "60/60 [==============================] - 0s 2ms/step - loss: 5.4375 - mse: 5.4375 - val_loss: 6.0150 - val_mse: 6.0150\n",
      "Epoch 14/50\n",
      "60/60 [==============================] - 0s 2ms/step - loss: 5.1703 - mse: 5.1703 - val_loss: 5.8543 - val_mse: 5.8543\n",
      "Epoch 15/50\n",
      "60/60 [==============================] - 0s 2ms/step - loss: 5.0946 - mse: 5.0946 - val_loss: 5.3956 - val_mse: 5.3956\n",
      "Epoch 16/50\n",
      "60/60 [==============================] - 0s 2ms/step - loss: 4.8609 - mse: 4.8609 - val_loss: 5.2675 - val_mse: 5.2675\n",
      "Epoch 17/50\n",
      "60/60 [==============================] - 0s 2ms/step - loss: 4.8114 - mse: 4.8114 - val_loss: 5.1718 - val_mse: 5.1718\n",
      "Epoch 18/50\n",
      "60/60 [==============================] - 0s 2ms/step - loss: 4.7696 - mse: 4.7696 - val_loss: 5.4603 - val_mse: 5.4603\n",
      "Epoch 19/50\n",
      "60/60 [==============================] - 0s 2ms/step - loss: 4.7694 - mse: 4.7694 - val_loss: 5.1054 - val_mse: 5.1054\n",
      "Epoch 20/50\n",
      "60/60 [==============================] - 0s 2ms/step - loss: 4.7242 - mse: 4.7242 - val_loss: 5.1049 - val_mse: 5.1049\n",
      "Epoch 21/50\n",
      "60/60 [==============================] - 0s 2ms/step - loss: 4.6992 - mse: 4.6992 - val_loss: 4.9882 - val_mse: 4.9882\n",
      "Epoch 22/50\n",
      "60/60 [==============================] - 0s 2ms/step - loss: 4.8999 - mse: 4.8999 - val_loss: 4.9973 - val_mse: 4.9973\n",
      "Epoch 23/50\n",
      "60/60 [==============================] - 0s 2ms/step - loss: 4.6266 - mse: 4.6266 - val_loss: 5.0718 - val_mse: 5.0718\n",
      "Epoch 24/50\n",
      "60/60 [==============================] - 0s 2ms/step - loss: 4.6105 - mse: 4.6105 - val_loss: 5.0602 - val_mse: 5.0602\n",
      "Epoch 25/50\n",
      "60/60 [==============================] - 0s 2ms/step - loss: 4.6837 - mse: 4.6837 - val_loss: 5.0352 - val_mse: 5.0352\n",
      "Epoch 26/50\n",
      "60/60 [==============================] - 0s 2ms/step - loss: 4.5978 - mse: 4.5978 - val_loss: 4.9978 - val_mse: 4.9978\n",
      "Epoch 27/50\n",
      "60/60 [==============================] - 0s 2ms/step - loss: 4.6812 - mse: 4.6812 - val_loss: 4.9564 - val_mse: 4.9564\n",
      "Epoch 28/50\n",
      "60/60 [==============================] - 0s 2ms/step - loss: 4.6410 - mse: 4.6410 - val_loss: 5.2771 - val_mse: 5.2771\n",
      "Epoch 29/50\n",
      "60/60 [==============================] - 0s 2ms/step - loss: 4.6426 - mse: 4.6426 - val_loss: 4.9406 - val_mse: 4.9406\n",
      "Epoch 30/50\n",
      "60/60 [==============================] - 0s 2ms/step - loss: 4.5751 - mse: 4.5751 - val_loss: 5.0002 - val_mse: 5.0002\n",
      "Epoch 31/50\n",
      "60/60 [==============================] - 0s 2ms/step - loss: 4.6529 - mse: 4.6529 - val_loss: 4.9280 - val_mse: 4.9280\n",
      "Epoch 32/50\n",
      "60/60 [==============================] - 0s 2ms/step - loss: 4.5791 - mse: 4.5791 - val_loss: 5.0324 - val_mse: 5.0324\n",
      "Epoch 33/50\n",
      "60/60 [==============================] - 0s 2ms/step - loss: 4.5994 - mse: 4.5994 - val_loss: 5.0203 - val_mse: 5.0203\n",
      "Epoch 34/50\n",
      "60/60 [==============================] - 0s 2ms/step - loss: 4.6261 - mse: 4.6261 - val_loss: 5.1149 - val_mse: 5.1149\n",
      "Epoch 35/50\n",
      "60/60 [==============================] - 0s 2ms/step - loss: 4.6840 - mse: 4.6840 - val_loss: 4.9172 - val_mse: 4.9172\n",
      "Epoch 36/50\n",
      "60/60 [==============================] - 0s 2ms/step - loss: 4.5339 - mse: 4.5339 - val_loss: 4.9790 - val_mse: 4.9790\n",
      "Epoch 37/50\n",
      "60/60 [==============================] - 0s 2ms/step - loss: 4.6125 - mse: 4.6125 - val_loss: 4.9895 - val_mse: 4.9895\n",
      "Epoch 38/50\n",
      "60/60 [==============================] - 0s 2ms/step - loss: 4.5760 - mse: 4.5760 - val_loss: 4.9324 - val_mse: 4.9324\n",
      "Epoch 39/50\n",
      "60/60 [==============================] - 0s 2ms/step - loss: 4.5870 - mse: 4.5870 - val_loss: 5.0504 - val_mse: 5.0504\n",
      "Epoch 40/50\n",
      "60/60 [==============================] - 0s 2ms/step - loss: 4.6151 - mse: 4.6151 - val_loss: 5.4989 - val_mse: 5.4989\n",
      "Epoch 41/50\n",
      "60/60 [==============================] - 0s 2ms/step - loss: 4.6629 - mse: 4.6629 - val_loss: 5.0381 - val_mse: 5.0381\n",
      "Epoch 42/50\n",
      "60/60 [==============================] - 0s 2ms/step - loss: 4.5815 - mse: 4.5815 - val_loss: 4.8914 - val_mse: 4.8914\n",
      "Epoch 43/50\n",
      "60/60 [==============================] - 0s 2ms/step - loss: 4.5483 - mse: 4.5483 - val_loss: 5.0396 - val_mse: 5.0396\n",
      "Epoch 44/50\n",
      "60/60 [==============================] - 0s 2ms/step - loss: 4.5486 - mse: 4.5486 - val_loss: 4.9309 - val_mse: 4.9309\n",
      "Epoch 45/50\n",
      "60/60 [==============================] - 0s 2ms/step - loss: 4.5628 - mse: 4.5628 - val_loss: 5.1780 - val_mse: 5.1780\n",
      "Epoch 46/50\n",
      "60/60 [==============================] - 0s 2ms/step - loss: 4.5579 - mse: 4.5579 - val_loss: 5.1880 - val_mse: 5.1880\n",
      "Epoch 47/50\n",
      "60/60 [==============================] - 0s 2ms/step - loss: 4.6584 - mse: 4.6584 - val_loss: 4.8852 - val_mse: 4.8852\n",
      "Epoch 48/50\n",
      "60/60 [==============================] - 0s 2ms/step - loss: 4.5031 - mse: 4.5031 - val_loss: 5.0143 - val_mse: 5.0143\n",
      "Epoch 49/50\n",
      "60/60 [==============================] - 0s 2ms/step - loss: 4.5839 - mse: 4.5839 - val_loss: 4.9692 - val_mse: 4.9692\n",
      "Epoch 50/50\n",
      "60/60 [==============================] - 0s 2ms/step - loss: 4.5812 - mse: 4.5812 - val_loss: 5.0034 - val_mse: 5.0034\n",
      "DNN regression MSE = 4.6001\n",
      "DNN regression R2 = 0.5780\n"
     ]
    }
   ],
   "source": [
    "# Best activation function is indeed SELU\n",
    "dnn = get_dnn('selu')\n",
    "# Split the training data to get some validation data for the neural network\n",
    "X_train, X_val, y_train, y_val = train_test_split(X_train, y_train, test_size=0.25, shuffle=True)\n",
    "# Training the model on the full training set\n",
    "dnn.fit(X_train, y_train, epochs=50, validation_data=(X_val, y_val))\n",
    "dnn_pred = dnn.predict(X_test)\n",
    "print('DNN regression MSE = %.4f' % (mean_squared_error(y_test, dnn_pred)))\n",
    "print('DNN regression R2 = %.4f' % (r2_score(y_test, dnn_pred)))"
   ]
  }
 ],
 "metadata": {
  "interpreter": {
   "hash": "2db524e06e9f5f4ffedc911c917cb75e12dbc923643829bf417064a77eb14d37"
  },
  "kernelspec": {
   "display_name": "Python 3.8.2 64-bit",
   "language": "python",
   "name": "python3"
  },
  "language_info": {
   "codemirror_mode": {
    "name": "ipython",
    "version": 3
   },
   "file_extension": ".py",
   "mimetype": "text/x-python",
   "name": "python",
   "nbconvert_exporter": "python",
   "pygments_lexer": "ipython3",
   "version": "3.8.2"
  },
  "orig_nbformat": 4
 },
 "nbformat": 4,
 "nbformat_minor": 2
}
